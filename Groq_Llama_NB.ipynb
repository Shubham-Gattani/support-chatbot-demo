{
  "nbformat": 4,
  "nbformat_minor": 0,
  "metadata": {
    "colab": {
      "provenance": []
    },
    "kernelspec": {
      "name": "python3",
      "display_name": "Python 3"
    },
    "language_info": {
      "name": "python"
    }
  },
  "cells": [
    {
      "cell_type": "markdown",
      "source": [
        "# Installing the Essential Libraries"
      ],
      "metadata": {
        "id": "BgHsWtkdb5yl"
      }
    },
    {
      "cell_type": "code",
      "execution_count": 33,
      "metadata": {
        "id": "h9vyTMTNNMo2",
        "collapsed": true
      },
      "outputs": [],
      "source": [
        "!pip install PyPDF2 langchain groq transformers faiss-cpu > /dev/null\n",
        "!pip install -U langchain-community > /dev/null\n",
        "!pip install -U langchain-huggingface > /dev/null"
      ]
    },
    {
      "cell_type": "markdown",
      "source": [
        "# Importing Libraries"
      ],
      "metadata": {
        "id": "jrxcc8eqcATc"
      }
    },
    {
      "cell_type": "code",
      "source": [
        "import os\n",
        "import PyPDF2\n",
        "from langchain_huggingface import HuggingFaceEmbeddings\n",
        "from langchain.vectorstores import FAISS\n",
        "from langchain.text_splitter import CharacterTextSplitter\n",
        "from langchain.chains import RetrievalQA\n",
        "from langchain.document_loaders import TextLoader\n",
        "from google.colab import files\n",
        "from transformers import AutoTokenizer, AutoModel\n",
        "import torch\n",
        "from pprint import pprint\n",
        "from IPython.display import Markdown as md"
      ],
      "metadata": {
        "id": "ibm8DUszOKId"
      },
      "execution_count": 34,
      "outputs": []
    },
    {
      "cell_type": "code",
      "source": [
        "groq_api_key = \"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\"\n",
        "os.environ[\"GROQ_API_KEY\"] = groq_api_key"
      ],
      "metadata": {
        "id": "Q3eBdVsJOK0H"
      },
      "execution_count": 3,
      "outputs": []
    },
    {
      "cell_type": "code",
      "source": [
        "from google.colab import files\n",
        "uploaded = files.upload()"
      ],
      "metadata": {
        "colab": {
          "base_uri": "https://localhost:8080/",
          "height": 71
        },
        "id": "5fTy9xluOfG9",
        "outputId": "dd322983-ea4c-4db8-f3b5-59d62df5ffaf"
      },
      "execution_count": 72,
      "outputs": [
        {
          "output_type": "display_data",
          "data": {
            "text/plain": [
              "<IPython.core.display.HTML object>"
            ],
            "text/html": [
              "\n",
              "     <input type=\"file\" id=\"files-bf2507ef-fd79-4b86-a0a0-a835242cd73f\" name=\"files[]\" multiple disabled\n",
              "        style=\"border:none\" />\n",
              "     <output id=\"result-bf2507ef-fd79-4b86-a0a0-a835242cd73f\">\n",
              "      Upload widget is only available when the cell has been executed in the\n",
              "      current browser session. Please rerun this cell to enable.\n",
              "      </output>\n",
              "      <script>// Copyright 2017 Google LLC\n",
              "//\n",
              "// Licensed under the Apache License, Version 2.0 (the \"License\");\n",
              "// you may not use this file except in compliance with the License.\n",
              "// You may obtain a copy of the License at\n",
              "//\n",
              "//      http://www.apache.org/licenses/LICENSE-2.0\n",
              "//\n",
              "// Unless required by applicable law or agreed to in writing, software\n",
              "// distributed under the License is distributed on an \"AS IS\" BASIS,\n",
              "// WITHOUT WARRANTIES OR CONDITIONS OF ANY KIND, either express or implied.\n",
              "// See the License for the specific language governing permissions and\n",
              "// limitations under the License.\n",
              "\n",
              "/**\n",
              " * @fileoverview Helpers for google.colab Python module.\n",
              " */\n",
              "(function(scope) {\n",
              "function span(text, styleAttributes = {}) {\n",
              "  const element = document.createElement('span');\n",
              "  element.textContent = text;\n",
              "  for (const key of Object.keys(styleAttributes)) {\n",
              "    element.style[key] = styleAttributes[key];\n",
              "  }\n",
              "  return element;\n",
              "}\n",
              "\n",
              "// Max number of bytes which will be uploaded at a time.\n",
              "const MAX_PAYLOAD_SIZE = 100 * 1024;\n",
              "\n",
              "function _uploadFiles(inputId, outputId) {\n",
              "  const steps = uploadFilesStep(inputId, outputId);\n",
              "  const outputElement = document.getElementById(outputId);\n",
              "  // Cache steps on the outputElement to make it available for the next call\n",
              "  // to uploadFilesContinue from Python.\n",
              "  outputElement.steps = steps;\n",
              "\n",
              "  return _uploadFilesContinue(outputId);\n",
              "}\n",
              "\n",
              "// This is roughly an async generator (not supported in the browser yet),\n",
              "// where there are multiple asynchronous steps and the Python side is going\n",
              "// to poll for completion of each step.\n",
              "// This uses a Promise to block the python side on completion of each step,\n",
              "// then passes the result of the previous step as the input to the next step.\n",
              "function _uploadFilesContinue(outputId) {\n",
              "  const outputElement = document.getElementById(outputId);\n",
              "  const steps = outputElement.steps;\n",
              "\n",
              "  const next = steps.next(outputElement.lastPromiseValue);\n",
              "  return Promise.resolve(next.value.promise).then((value) => {\n",
              "    // Cache the last promise value to make it available to the next\n",
              "    // step of the generator.\n",
              "    outputElement.lastPromiseValue = value;\n",
              "    return next.value.response;\n",
              "  });\n",
              "}\n",
              "\n",
              "/**\n",
              " * Generator function which is called between each async step of the upload\n",
              " * process.\n",
              " * @param {string} inputId Element ID of the input file picker element.\n",
              " * @param {string} outputId Element ID of the output display.\n",
              " * @return {!Iterable<!Object>} Iterable of next steps.\n",
              " */\n",
              "function* uploadFilesStep(inputId, outputId) {\n",
              "  const inputElement = document.getElementById(inputId);\n",
              "  inputElement.disabled = false;\n",
              "\n",
              "  const outputElement = document.getElementById(outputId);\n",
              "  outputElement.innerHTML = '';\n",
              "\n",
              "  const pickedPromise = new Promise((resolve) => {\n",
              "    inputElement.addEventListener('change', (e) => {\n",
              "      resolve(e.target.files);\n",
              "    });\n",
              "  });\n",
              "\n",
              "  const cancel = document.createElement('button');\n",
              "  inputElement.parentElement.appendChild(cancel);\n",
              "  cancel.textContent = 'Cancel upload';\n",
              "  const cancelPromise = new Promise((resolve) => {\n",
              "    cancel.onclick = () => {\n",
              "      resolve(null);\n",
              "    };\n",
              "  });\n",
              "\n",
              "  // Wait for the user to pick the files.\n",
              "  const files = yield {\n",
              "    promise: Promise.race([pickedPromise, cancelPromise]),\n",
              "    response: {\n",
              "      action: 'starting',\n",
              "    }\n",
              "  };\n",
              "\n",
              "  cancel.remove();\n",
              "\n",
              "  // Disable the input element since further picks are not allowed.\n",
              "  inputElement.disabled = true;\n",
              "\n",
              "  if (!files) {\n",
              "    return {\n",
              "      response: {\n",
              "        action: 'complete',\n",
              "      }\n",
              "    };\n",
              "  }\n",
              "\n",
              "  for (const file of files) {\n",
              "    const li = document.createElement('li');\n",
              "    li.append(span(file.name, {fontWeight: 'bold'}));\n",
              "    li.append(span(\n",
              "        `(${file.type || 'n/a'}) - ${file.size} bytes, ` +\n",
              "        `last modified: ${\n",
              "            file.lastModifiedDate ? file.lastModifiedDate.toLocaleDateString() :\n",
              "                                    'n/a'} - `));\n",
              "    const percent = span('0% done');\n",
              "    li.appendChild(percent);\n",
              "\n",
              "    outputElement.appendChild(li);\n",
              "\n",
              "    const fileDataPromise = new Promise((resolve) => {\n",
              "      const reader = new FileReader();\n",
              "      reader.onload = (e) => {\n",
              "        resolve(e.target.result);\n",
              "      };\n",
              "      reader.readAsArrayBuffer(file);\n",
              "    });\n",
              "    // Wait for the data to be ready.\n",
              "    let fileData = yield {\n",
              "      promise: fileDataPromise,\n",
              "      response: {\n",
              "        action: 'continue',\n",
              "      }\n",
              "    };\n",
              "\n",
              "    // Use a chunked sending to avoid message size limits. See b/62115660.\n",
              "    let position = 0;\n",
              "    do {\n",
              "      const length = Math.min(fileData.byteLength - position, MAX_PAYLOAD_SIZE);\n",
              "      const chunk = new Uint8Array(fileData, position, length);\n",
              "      position += length;\n",
              "\n",
              "      const base64 = btoa(String.fromCharCode.apply(null, chunk));\n",
              "      yield {\n",
              "        response: {\n",
              "          action: 'append',\n",
              "          file: file.name,\n",
              "          data: base64,\n",
              "        },\n",
              "      };\n",
              "\n",
              "      let percentDone = fileData.byteLength === 0 ?\n",
              "          100 :\n",
              "          Math.round((position / fileData.byteLength) * 100);\n",
              "      percent.textContent = `${percentDone}% done`;\n",
              "\n",
              "    } while (position < fileData.byteLength);\n",
              "  }\n",
              "\n",
              "  // All done.\n",
              "  yield {\n",
              "    response: {\n",
              "      action: 'complete',\n",
              "    }\n",
              "  };\n",
              "}\n",
              "\n",
              "scope.google = scope.google || {};\n",
              "scope.google.colab = scope.google.colab || {};\n",
              "scope.google.colab._files = {\n",
              "  _uploadFiles,\n",
              "  _uploadFilesContinue,\n",
              "};\n",
              "})(self);\n",
              "</script> "
            ]
          },
          "metadata": {}
        },
        {
          "output_type": "stream",
          "name": "stdout",
          "text": [
            "Saving Student_Handbook_latest.pdf to Student_Handbook_latest.pdf\n"
          ]
        }
      ]
    },
    {
      "cell_type": "markdown",
      "source": [
        "# Converting PDF to Text"
      ],
      "metadata": {
        "id": "657TrlwzcD-p"
      }
    },
    {
      "cell_type": "code",
      "source": [
        "def pdf_to_text(pdf_path):\n",
        "    with open(pdf_path, \"rb\") as file:\n",
        "        pdf_reader = PyPDF2.PdfReader(file)\n",
        "        text = \"\"\n",
        "        for page_num in range(len(pdf_reader.pages)):\n",
        "            page = pdf_reader.pages[page_num]\n",
        "            text += page.extract_text()\n",
        "    return text # returns the whole text of the pdf as single string"
      ],
      "metadata": {
        "id": "kaTy34CiOvtT"
      },
      "execution_count": 73,
      "outputs": []
    },
    {
      "cell_type": "code",
      "source": [
        "pdf_path = list(uploaded.keys())[0]\n",
        "print(f\"pdf_path: {pdf_path}\")\n",
        "pdf_text = pdf_to_text(pdf_path)"
      ],
      "metadata": {
        "id": "AUIijn5rOxnW",
        "colab": {
          "base_uri": "https://localhost:8080/"
        },
        "outputId": "1a02d765-0c49-4370-968c-040f0f4238ee"
      },
      "execution_count": 9,
      "outputs": [
        {
          "output_type": "stream",
          "name": "stdout",
          "text": [
            "pdf_path: Student_Handbook_latest Extract[1-12].pdf\n"
          ]
        }
      ]
    },
    {
      "cell_type": "markdown",
      "source": [
        "# Converting the Entire Text to Chunks"
      ],
      "metadata": {
        "id": "1CG4FWz0cHWY"
      }
    },
    {
      "cell_type": "code",
      "source": [
        "import re\n",
        "def split_text_into_sentences(text):\n",
        "    \"\"\"Splits text into sentences using regex.\"\"\"\n",
        "    sentences = re.split(r'(?<=[.?!])\\s+', text)  # Split at sentence boundaries\n",
        "    cleaned_sentences = []\n",
        "    for sent in sentences:\n",
        "      sent = sent.replace(\"\\n\", \" \")  # Replace newlines with spaces\n",
        "      sent = re.sub(r'\\s+', ' ', sent)  # Replace multiple spaces with a single space\n",
        "      cleaned_sentences.append(sent)\n",
        "    return cleaned_sentences"
      ],
      "metadata": {
        "id": "IgI9opPFt6_5"
      },
      "execution_count": 38,
      "outputs": []
    },
    {
      "cell_type": "code",
      "source": [
        "def chunk_text_with_some_overlap(text, chunk_size=5, overlap=2):\n",
        "    \"\"\"Splits a long text into chunks of max `chunk_size` words with `overlap`.\"\"\"\n",
        "    initial_chunks, final_chunks = [], [] # initial_chunks are non-overlapping; final_chunks are overlapping\n",
        "    clean_sentences = split_text_into_sentences(text)\n",
        "    concatenated_text = \" \".join(clean_sentences) # Concatenate separated sentences into a single string\n",
        "    spaced_list = concatenated_text.split() # Split concatenated text into a list of words\n",
        "\n",
        "    step = chunk_size - overlap\n",
        "    for i in range(0, len(spaced_list), step): # create non-overlapping chunks\n",
        "      # print(f\"i={i}\")\n",
        "      initial_chunks.append(spaced_list[i:i + step])\n",
        "\n",
        "    for i in range(0, len(initial_chunks)-1): # create overlapping chunks\n",
        "      temp = list(initial_chunks[i]) # Make a copy\n",
        "      # print(f\"TEMP = {temp}\")\n",
        "      temp.extend(initial_chunks[i+1][:overlap])\n",
        "      final_chunks.append(' '.join(temp))\n",
        "\n",
        "    return final_chunks\n"
      ],
      "metadata": {
        "id": "R9NdH5qlq5gv"
      },
      "execution_count": 39,
      "outputs": []
    },
    {
      "cell_type": "code",
      "source": [
        "chunks = chunk_text_with_some_overlap(pdf_text, chunk_size=300, overlap=60)\n",
        "for chunk in chunks[7:10]:\n",
        "  print(chunk, end=\"\\n********\\n\")"
      ],
      "metadata": {
        "colab": {
          "base_uri": "https://localhost:8080/"
        },
        "id": "WfHqtuyxt2Zq",
        "outputId": "0b97f947-afc7-4f85-adb2-9f6cea0c9fd0"
      },
      "execution_count": 75,
      "outputs": [
        {
          "output_type": "stream",
          "name": "stdout",
          "text": [
            "courses can be credited within the 142 credits required for the BS degree. The Minor can be earned only with the BS degree and not the Bsc degree. A separate document will be issued by IITM stating that the Minor has been completed. There will be no change in transcript or the degree certificate for those who do the minor. 4. Fees for the entire programme ● First year fees kept low to enable learners to try out the programme ● Entry fee for Qualifier exam: Rs. 3000 (non-refundable) - with suitable waivers ● Fee waivers for learners belonging to certain categories and economic backgrounds Number of credits in each level: Level Theory Project Apprenticeship NPTEL MG/HS/HM Foundation 32 Diploma in DS 23 4 Diploma in P 23 4 BSc 28-X X (0-4) BS 28-A-B A (0/4/12) B=4 *Only maximum of 24 credits can be transferred towards non counted CGP A course Foundation: Rs 32000/- Diploma Level: 62500 x 2 = Rs 125,000/- BSc Level: Rs 2.21L - 2.47L BS Level: 3.25L - 3.87L Cost per credit (Rs) Number of credits Total fee Level fees Foundation 1000/c 32c 32000 32,000 Diploma 2500/c for Theory 1250/c for project 23x2=46c 4x2 = 8c 115,000 10,000 125,000 BSc Level 3 - Rs 2500/c Level 4 - Rs 5000/c 1000/c for NPTEL 20c for 5 mandatory courses (Level 3) 4c NPTEL+4c Level 3 4c NPTEL + 4c Level 4 8c Level 3 4c Level 3 + 4c Level 4 8c Level 4 50000 4000+10000 4000+20000 20000 30000 40000 64,000 74,000 70,000 80,000 90,000 BS Level 3 - Rs 2500/c Level 4 - Rs 5000/c 1000/c for NPTEL 2 Level 4 mandatory DS = 8c 2 Level 4 mandatory DP = 8c 4c NPTEL + 8c Level 3 4c NPTEL + 4c Level 3 +\n",
            "********\n",
            "3 + 4c Level 4 8c Level 4 50000 4000+10000 4000+20000 20000 30000 40000 64,000 74,000 70,000 80,000 90,000 BS Level 3 - Rs 2500/c Level 4 - Rs 5000/c 1000/c for NPTEL 2 Level 4 mandatory DS = 8c 2 Level 4 mandatory DP = 8c 4c NPTEL + 8c Level 3 4c NPTEL + 4c Level 3 + 4c Level 4 4c NPTEL + 8c Level 4 12c Level 3 12c Level 4 40000 40000 4000+20000 4000+30000 4000+40000 30000 60000 104000 114000 124000 110000 140000 Fee waivers depend on the category of learner and family income Family Income > 5 LPA Family Income > 1 LPA and <= 5 LPA Family Income <= 1 LPA Fees Docs Required Fees Docs Required Fees Docs Required General Full Fee NIL 50% waiver EWS + Family Income 75% waiver EWS + Family Income OBC Full Fee NIL 50% waiver OBC-NCL + Family Income 75% waiver OBC-NCL + Family Income SC / ST 50% waiver SC / ST 50% waiver SC / ST 75% waiver SC / ST + Family Income PwD 50% waiver PwD 50% waiver PwD 75% waiver PwD + EWS / OBC-NCL + Family Income SC / ST + PwD 75% waiver SC / ST + PwD 75% waiver SC / ST + PwD 75% waiver SC / ST + PwD SBI Loan Process: Please contact Martina/Angelin Ph No 9444020900/8608076093, for any help. Rate of interest starts from 8.10% with no collateral security and simple interest till course completion · Loan is given to students along with any one parent, Father or Mother. · Student is known as Borrower and the parent who is taking out a loan with the student will be known as Co-borrower. · Student and co borrower both should have EITHER JOINT ACCOUNT IN SBI\n",
            "********\n",
            "with no collateral security and simple interest till course completion · Loan is given to students along with any one parent, Father or Mother. · Student is known as Borrower and the parent who is taking out a loan with the student will be known as Co-borrower. · Student and co borrower both should have EITHER JOINT ACCOUNT IN SBI (any branch) or Separate accounts in SBI. · We will provide you Application form which needs to be filled digitally. Once filled, you need to take coloured print and sign the documents wherever needed. Also attach the documents as per LIST OF DOCUMENTS given below. · Application Print, and documents must be sent to following address using INDIA POST courier. 1st Cross Road, CAMPUS, Indian Institute of Technology, Chennai 600036 4.1 For students who are outside India: Facilitation fee for exams is in addition to the above for candidates writing exams overseas - as fixed up with the local exam partner there. These are subject to periodic changes depending on the local exam partner identified. Facilitation Fee Quiz1 [irrespective of num of courses] = Rs.2000/- Quiz2 [irrespective of num of courses] = Rs.2000/- End term [per session] = Rs.2000/- [one course it is Rs.2000/- & more than one course it is Rs. 4000/-] E.,g If you opt for 4 courses Quiz1 = 2000, Quiz2 = 2000, EndTerm = 4000 Totally 8000 to be paid as a facilitation fee *Facilitation fee may vary based on country. Eg: Kuwait & Bahrain it is Rs. 3000/- 5. Admission to the programme 5.1 Regular Entry into Foundation level To enter the Foundation level, applicants have to pass the Qualifier exam. The Foundation courses allow for interested applicants with a variety of educational backgrounds to be trained in the basics (Math, Statistics, Computational Thinking, Python\n",
            "********\n"
          ]
        }
      ]
    },
    {
      "cell_type": "code",
      "source": [
        "len(chunks)"
      ],
      "metadata": {
        "colab": {
          "base_uri": "https://localhost:8080/"
        },
        "id": "DM8W-Pr3p4Y7",
        "outputId": "6681e697-5998-49d0-e327-9f8be8875c08"
      },
      "execution_count": 60,
      "outputs": [
        {
          "output_type": "execute_result",
          "data": {
            "text/plain": [
              "13"
            ]
          },
          "metadata": {},
          "execution_count": 60
        }
      ]
    },
    {
      "cell_type": "code",
      "source": [
        "hf_embeddings = HuggingFaceEmbeddings(model_name=\"all-MiniLM-L6-v2\") # setting up a way to get embeddings (numerical representations) of text using a pre-trained model from Hugging Face."
      ],
      "metadata": {
        "id": "feJBEuV-PZ0W"
      },
      "execution_count": 61,
      "outputs": []
    },
    {
      "cell_type": "markdown",
      "source": [
        "# Creating the Vector Store from the text in terms of chunks taking the help of HF embeddings."
      ],
      "metadata": {
        "id": "Ra-2GpiScOcN"
      }
    },
    {
      "cell_type": "code",
      "source": [
        "vector_store = FAISS.from_texts(chunks, hf_embeddings) # internally uses the hf_embeddings object to convert each text chunk in the chunks list into a numerical vector representation (an embedding)."
      ],
      "metadata": {
        "id": "OdBCL6H3UUFu"
      },
      "execution_count": 62,
      "outputs": []
    },
    {
      "cell_type": "code",
      "source": [
        "system_prompt = \"\"\"\n",
        "You are an AI assistant trained to answer questions based on the content of the PDF document provided, which is a student handbook.\n",
        "The document is highly detailed and contains knowledge about the entire IIT Madras BS Degree.\n",
        "When asked a question, you should refer to the document and provide the most accurate and relevant answer based on the information in the document.\n",
        "Answer only based on the content from the document and do not make up any information.\n",
        "\"\"\"\n"
      ],
      "metadata": {
        "id": "47GEo5m5UU3o"
      },
      "execution_count": 63,
      "outputs": []
    },
    {
      "cell_type": "markdown",
      "source": [
        "# Preparing the Model with RAG"
      ],
      "metadata": {
        "id": "vShSN1-HcXBx"
      }
    },
    {
      "cell_type": "code",
      "source": [
        "from groq import Groq\n",
        "\n",
        "client = Groq(api_key=groq_api_key)\n",
        "\n",
        "def query_model_with_rag(query):\n",
        "    relevant_chunks = vector_store.similarity_search(query, k=3) # k=3: This parameter specifies the number of most similar chunks to retrieve. In this case, it will return the top 3 most relevant chunks.\n",
        "    # pprint(f\"RELEVANT CHUNKS = {relevant_chunks}\")\n",
        "    # print(f\"LENGTH RELEVANT CHUNKS = {len(relevant_chunks)}\")\n",
        "    context = \"\\n\".join([doc.page_content for doc in relevant_chunks]) # concatenates the text content of the relevant chunks into a single string.\n",
        "    # print(f\"Length of context is len(context): {len(context)}\")\n",
        "    prompt = system_prompt + \"\\n\\nContext:\\n\" + context + \"\\n\\nQuestion: \" + query + \"\\nAnswer:\"\n",
        "    chat_completion = client.chat.completions.create(\n",
        "        messages=[{\"role\": \"user\", \"content\": prompt}],\n",
        "        model=\"llama-3.3-70b-versatile\",\n",
        "        stream=False\n",
        "    )\n",
        "    return relevant_chunks, chat_completion.choices[0].message.content.strip()"
      ],
      "metadata": {
        "id": "4i92DwmVUfzE"
      },
      "execution_count": 70,
      "outputs": []
    },
    {
      "cell_type": "code",
      "source": [
        "from pprint import pprint\n",
        "from IPython.display import Markdown as md"
      ],
      "metadata": {
        "id": "H6ASEtJ4X03M"
      },
      "execution_count": 65,
      "outputs": []
    },
    {
      "cell_type": "markdown",
      "source": [
        "# Evaluation"
      ],
      "metadata": {
        "id": "jJsaAd8Icd4w"
      }
    },
    {
      "cell_type": "code",
      "source": [
        "query = \"What is the total amount of credits required to pass the BS Degree?\"\n",
        "relevant_chunks, answer = query_model_with_rag(query)\n",
        "print(answer)"
      ],
      "metadata": {
        "colab": {
          "base_uri": "https://localhost:8080/"
        },
        "id": "TManU45NUwL-",
        "outputId": "341f5df2-2a81-4338-e06a-f04e81a2d727"
      },
      "execution_count": 76,
      "outputs": [
        {
          "output_type": "stream",
          "name": "stdout",
          "text": [
            "According to the document, the total number of credits required to graduate with the BS degree is 142.\n"
          ]
        }
      ]
    },
    {
      "cell_type": "code",
      "source": [
        "query = \"What is the fee of level 3 courses?\"\n",
        "relevant_chunks, answer = query_model_with_rag(query)\n",
        "print(answer)"
      ],
      "metadata": {
        "colab": {
          "base_uri": "https://localhost:8080/"
        },
        "id": "vqVq5rfWXpUt",
        "outputId": "98900db3-0c78-4895-af7e-33d6f6650e88"
      },
      "execution_count": 77,
      "outputs": [
        {
          "output_type": "stream",
          "name": "stdout",
          "text": [
            "The fee for level 3 courses is Rs 2500/credit.\n"
          ]
        }
      ]
    },
    {
      "cell_type": "code",
      "source": [
        "query = \"Explain the fee structure for each level of the program, including fee waivers and additional costs.\"\n",
        "relevant_chunks, answer = query_model_with_rag(query)\n",
        "md(answer)"
      ],
      "metadata": {
        "colab": {
          "base_uri": "https://localhost:8080/",
          "height": 342
        },
        "id": "GCaTRyL8Xus3",
        "outputId": "cfe038ec-7c91-44c8-ba33-00eaed1b1533"
      },
      "execution_count": 78,
      "outputs": [
        {
          "output_type": "execute_result",
          "data": {
            "text/plain": [
              "<IPython.core.display.Markdown object>"
            ],
            "text/markdown": "The fee structure for the IIT Madras BS Degree program is as follows:\n\n- For Level 3 courses, the fee is Rs 2500 per credit.\n- For Level 4 courses, the fee is Rs 5000 per credit.\n- For NPTEL courses, the fee is Rs 1000 per credit.\n\nFee waivers are available based on the category of learner and family income. The fee waiver structure is as follows:\n\n- General category: No waiver\n- EWS + Family Income > 1 LPA and <= 5 LPA: 50% waiver\n- EWS + Family Income <= 1 LPA: 75% waiver\n- OBC-NCL + Family Income > 1 LPA and <= 5 LPA: 50% waiver\n- OBC-NCL + Family Income <= 1 LPA: 75% waiver\n- SC/ST: 50% waiver for family income > 5 LPA, 75% waiver for family income <= 1 LPA\n- PwD: 50% waiver for family income > 5 LPA, 75% waiver for family income <= 1 LPA\n\nAdditional costs include:\n\n- Qualifier exam fee: Rs 3000 (with waivers for SC/ST and PwD with 40% disability backgrounds)\n- SBI loan interest: starting from 8.10% with no collateral security and simple interest till course completion\n\nNote: The fee structure and waivers are subject to change, and learners should check the official website for the most up-to-date information."
          },
          "metadata": {},
          "execution_count": 78
        }
      ]
    },
    {
      "cell_type": "code",
      "source": [
        "query = \"In which courses are project required?\"\n",
        "relevant_chunks, answer = query_model_with_rag(query)\n",
        "md(answer)"
      ],
      "metadata": {
        "colab": {
          "base_uri": "https://localhost:8080/",
          "height": 231
        },
        "id": "BVAp7lrcD4-6",
        "outputId": "5c71eebd-e7ce-4b5d-97e9-f26307c2144b"
      },
      "execution_count": 79,
      "outputs": [
        {
          "output_type": "execute_result",
          "data": {
            "text/plain": [
              "<IPython.core.display.Markdown object>"
            ],
            "text/markdown": "According to the document, project courses are required in the following:\n\n1. Diploma in Programming:\n   - Project course in Application Development - 1\n   - Project course in Application Development - 2\n\n2. Diploma in Data Science:\n   - Project course in Business Data Management\n   - Project course in Machine Learning Practice\n\nAdditionally, in the BS Degree level, Apprenticeship has been split into 2 courses - one of 4 credits that corresponds to the 4 month internship and another as 8 credits for the term of apprenticeship that is continued from months 5-8."
          },
          "metadata": {},
          "execution_count": 79
        }
      ]
    },
    {
      "cell_type": "code",
      "source": [],
      "metadata": {
        "id": "x9hahQIPD479"
      },
      "execution_count": null,
      "outputs": []
    },
    {
      "cell_type": "code",
      "source": [],
      "metadata": {
        "id": "k0NQ1QCPD40h"
      },
      "execution_count": null,
      "outputs": []
    }
  ]
}